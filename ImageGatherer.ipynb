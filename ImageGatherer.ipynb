{
 "cells": [
  {
   "cell_type": "markdown",
   "metadata": {},
   "source": [
    "# Image Gatherer"
   ]
  },
  {
   "cell_type": "markdown",
   "metadata": {},
   "source": [
    "Type any kind of object you are looking for and get images from the [Bing Image Search API](https://azure.microsoft.com/services/cognitive-services/bing-image-search-api/?wt.mc_id=pyconde-event-dmitryso).\n",
    "\n",
    "First of all, you need to obtain Bing Image Search key, in one of the following ways:\n",
    "\n",
    "* If you have an Azure Subscription, create Bing Image Search through [Azure Portal](http://portal.azure.com/?wt.mc_id=pyconde-event-dmitryso).\n",
    "* Request a 7-day Trial Key [here](https://azure.microsoft.com/en-us/try/cognitive-services/my-apis/?apiSlug=search-api-v7&wt.mc_id=pyconde-event-dmitryso) at [http://microsoft.com/cognitive](http://microsoft.com/cognitive/?wt.mc_id=pyconde-event-dmitryso)."
   ]
  },
  {
   "cell_type": "code",
   "execution_count": 1,
   "metadata": {},
   "outputs": [],
   "source": [
    "# Credentials for Bing Image Search API\n",
    "url = \"https://api.cognitive.microsoft.com/bing/v7.0/images/search\"\n",
    "key = \"INSERT YOUR BING IMAGE SEARCH KEY HERE\"\n",
    "safeSearch = 'Moderate'"
   ]
  },
  {
   "cell_type": "markdown",
   "metadata": {},
   "source": [
    "***Azure Notebooks Warning***: If you are running on Free Compute on Azure Notebooks, you might not be able to access the internet to get the images. If this happens, you can either download this notebook and run it on your local PC (through *File -> Downloads as... -> .ipynb*), or [run the notebooks on your own VM in the cloud](https://docs.microsoft.com/azure/notebooks/use-data-science-virtual-machine/?wt.mc_id=pyconde-event-dmitryso)."
   ]
  },
  {
   "cell_type": "markdown",
   "metadata": {},
   "source": [
    "**Define the Search Terms** below: "
   ]
  },
  {
   "cell_type": "code",
   "execution_count": 7,
   "metadata": {
    "scrolled": true
   },
   "outputs": [],
   "source": [
    "# Every entry from queryList is appended by the chosen extension and a folder is created with the name of the entry\n",
    "queryList = ['Croissant','Sloth']\n",
    "\n",
    "# The number of images saved to the folder\n",
    "numResults = 40\n",
    "\n",
    "# Extension is an additional term you can append to the search string in addition to main search terms above\n",
    "extension = ' '"
   ]
  },
  {
   "cell_type": "code",
   "execution_count": 2,
   "metadata": {},
   "outputs": [],
   "source": [
    "# import libraries\n",
    "import json\n",
    "import urllib.request\n",
    "import requests\n",
    "import os"
   ]
  },
  {
   "cell_type": "code",
   "execution_count": 3,
   "metadata": {},
   "outputs": [],
   "source": [
    "def SaveImage(url, folder, number, fileFormat):\n",
    "    ''' Save the image given by the url in the specified folder'''\n",
    "    path = 'images/' + folder\n",
    "    if not os.path.isdir(path):\n",
    "        os.mkdir(path)\n",
    "    if not os.path.isfile('{0}/{1}.{2}'.format(path,str(number),fileFormat)):\n",
    "        try:\n",
    "            # maybe pic unified file format here, e.g. png or jpg\n",
    "            urllib.request.urlretrieve(url, '{0}/{1}_{2}.{3}'.format(path,folder,str(number),fileFormat))\n",
    "            print(\"\\tSaved image {0}\".format(number + 1))\n",
    "        except:\n",
    "            print('\\tImage {0} could not be saved for {1}'.format(number, folder))\n",
    "    else:\n",
    "        print('\\tSkipped image {0} - already exists'.format(number, folder))"
   ]
  },
  {
   "cell_type": "code",
   "execution_count": 4,
   "metadata": {},
   "outputs": [],
   "source": [
    "def RetrieveImages(query, num):\n",
    "    # Request headers\n",
    "    headers = {\n",
    "        'Content-Type': 'multipart/form-data',\n",
    "        'Ocp-Apim-Subscription-Key': key,\n",
    "    }\n",
    "    \n",
    "    # Request data    \n",
    "    data = (url, query, num, safeSearch)\n",
    "    requestUrl = '{0}?q={1}&count={2}&safeSearch={3}'.format(*data)\n",
    "    \n",
    "    # Send request and return json result\n",
    "    r = requests.get(requestUrl, headers=headers)\n",
    "    return r.json()"
   ]
  },
  {
   "cell_type": "code",
   "execution_count": 5,
   "metadata": {
    "scrolled": false
   },
   "outputs": [],
   "source": [
    "def TriggerImageRetrieval(query, num, folderName):\n",
    "    imageResult = RetrieveImages(query, num)    \n",
    "    for i in range(0, len(imageResult['value'])):\n",
    "        image = imageResult['value'][i]\n",
    "        SaveImage(image['contentUrl'], folderName, i, image['encodingFormat'])"
   ]
  },
  {
   "cell_type": "code",
   "execution_count": 6,
   "metadata": {},
   "outputs": [],
   "source": [
    "def RunOnQueryList(queryList, extension, numResults):\n",
    "    print('------------------ Starting ------------------')\n",
    "    for query in queryList:\n",
    "        print('Results for {0}{1} - {2} of {3}:'.format( query , extension , queryList.index(query) + 1, len ( queryList ) ))\n",
    "        TriggerImageRetrieval(query + extension, numResults , query.replace(' ','_') )\n",
    "    print('------------------ Finished ------------------')"
   ]
  },
  {
   "cell_type": "code",
   "execution_count": 8,
   "metadata": {},
   "outputs": [],
   "source": [
    "!mkdir images"
   ]
  },
  {
   "cell_type": "code",
   "execution_count": 9,
   "metadata": {
    "scrolled": true
   },
   "outputs": [
    {
     "name": "stdout",
     "output_type": "stream",
     "text": [
      "------------------ Starting ------------------\n",
      "Results for Croissant  - 1 of 2:\n",
      "\tSaved image 1\n",
      "\tSaved image 2\n",
      "\tSaved image 3\n",
      "\tSaved image 4\n",
      "\tSaved image 5\n",
      "\tSaved image 6\n",
      "\tSaved image 7\n",
      "\tSaved image 8\n",
      "\tSaved image 9\n",
      "\tSaved image 10\n",
      "\tSaved image 11\n",
      "\tSaved image 12\n",
      "\tSaved image 13\n",
      "\tImage 13 could not be saved for Croissant\n",
      "\tSaved image 15\n",
      "\tSaved image 16\n",
      "\tSaved image 17\n",
      "\tSaved image 18\n",
      "\tSaved image 19\n",
      "\tSaved image 20\n",
      "\tSaved image 21\n",
      "\tSaved image 22\n",
      "\tSaved image 23\n",
      "\tSaved image 24\n",
      "\tSaved image 25\n",
      "\tImage 25 could not be saved for Croissant\n",
      "\tSaved image 27\n",
      "\tSaved image 28\n",
      "\tSaved image 29\n",
      "\tSaved image 30\n",
      "\tImage 30 could not be saved for Croissant\n",
      "\tImage 31 could not be saved for Croissant\n",
      "\tSaved image 33\n",
      "\tSaved image 34\n",
      "\tSaved image 35\n",
      "\tSaved image 36\n",
      "\tSaved image 37\n",
      "\tSaved image 38\n",
      "\tSaved image 39\n",
      "\tSaved image 40\n",
      "Results for Sloth  - 2 of 2:\n",
      "\tSaved image 1\n",
      "\tSaved image 2\n",
      "\tSaved image 3\n",
      "\tSaved image 4\n",
      "\tSaved image 5\n",
      "\tSaved image 6\n",
      "\tSaved image 7\n",
      "\tSaved image 8\n",
      "\tImage 8 could not be saved for Sloth\n",
      "\tImage 9 could not be saved for Sloth\n",
      "\tSaved image 11\n",
      "\tImage 11 could not be saved for Sloth\n",
      "\tSaved image 13\n",
      "\tSaved image 14\n",
      "\tSaved image 15\n",
      "\tSaved image 16\n",
      "\tSaved image 17\n",
      "\tSaved image 18\n",
      "\tSaved image 19\n",
      "\tSaved image 20\n",
      "\tSaved image 21\n",
      "\tSaved image 22\n",
      "\tSaved image 23\n",
      "\tSaved image 24\n",
      "\tSaved image 25\n",
      "\tImage 25 could not be saved for Sloth\n",
      "\tSaved image 27\n",
      "\tSaved image 28\n",
      "\tSaved image 29\n",
      "\tImage 29 could not be saved for Sloth\n",
      "\tImage 30 could not be saved for Sloth\n",
      "\tSaved image 32\n",
      "\tSaved image 33\n",
      "\tImage 33 could not be saved for Sloth\n",
      "\tImage 34 could not be saved for Sloth\n",
      "\tSaved image 36\n",
      "\tSaved image 37\n",
      "\tImage 37 could not be saved for Sloth\n",
      "\tSaved image 39\n",
      "\tSaved image 40\n",
      "------------------ Finished ------------------\n"
     ]
    }
   ],
   "source": [
    "# This runs the process and can take some time, especially if numResults is high and queryList contains a lot of entries\n",
    "RunOnQueryList(queryList=queryList, extension=extension, numResults=numResults)"
   ]
  },
  {
   "cell_type": "code",
   "execution_count": 10,
   "metadata": {},
   "outputs": [
    {
     "name": "stdout",
     "output_type": "stream",
     "text": [
      "Croissant_0.jpeg   Croissant_19.jpeg  Croissant_28.jpeg  Croissant_38.jpeg\r\n",
      "Croissant_10.jpeg  Croissant_1.jpeg   Croissant_29.jpeg  Croissant_39.jpeg\r\n",
      "Croissant_11.jpeg  Croissant_20.jpeg  Croissant_2.jpeg\t Croissant_3.jpeg\r\n",
      "Croissant_12.jpeg  Croissant_21.jpeg  Croissant_32.jpeg  Croissant_4.jpeg\r\n",
      "Croissant_14.jpeg  Croissant_22.jpeg  Croissant_33.jpeg  Croissant_5.jpeg\r\n",
      "Croissant_15.jpeg  Croissant_23.jpeg  Croissant_34.jpeg  Croissant_6.jpeg\r\n",
      "Croissant_16.jpeg  Croissant_24.jpeg  Croissant_35.jpeg  Croissant_7.jpeg\r\n",
      "Croissant_17.jpeg  Croissant_26.jpeg  Croissant_36.jpeg  Croissant_8.jpeg\r\n",
      "Croissant_18.jpeg  Croissant_27.jpeg  Croissant_37.jpeg  Croissant_9.jpeg\r\n"
     ]
    }
   ],
   "source": [
    "!ls images/Croissant/"
   ]
  },
  {
   "cell_type": "code",
   "execution_count": null,
   "metadata": {},
   "outputs": [],
   "source": []
  }
 ],
 "metadata": {
  "anaconda-cloud": {},
  "kernelspec": {
   "display_name": "Python 3",
   "language": "python",
   "name": "python3"
  },
  "language_info": {
   "codemirror_mode": {
    "name": "ipython",
    "version": 3
   },
   "file_extension": ".py",
   "mimetype": "text/x-python",
   "name": "python",
   "nbconvert_exporter": "python",
   "pygments_lexer": "ipython3",
   "version": "3.7.4"
  }
 },
 "nbformat": 4,
 "nbformat_minor": 1
}
